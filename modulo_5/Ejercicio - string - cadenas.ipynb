{
 "cells": [
  {
   "cell_type": "markdown",
   "id": "c127dec6",
   "metadata": {},
   "source": [
    "# Ejercicio - string / cadenas"
   ]
  },
  {
   "cell_type": "code",
   "execution_count": 1,
   "id": "321fdff9",
   "metadata": {},
   "outputs": [
    {
     "name": "stdout",
     "output_type": "stream",
     "text": [
      "Digite su nombre por favor: Juan Carlos\n",
      "\n",
      "\n",
      "Hola quetal Juan Carlos, en este programa usted podrá describir su experiencia sobre el producto, usted solo debe describir su \n",
      "experiencia utilizando palabras del vocabulario que se podrá ver a continuación: \n",
      "\n",
      "Palabras positivas disponibles: ['bueno', 'excelente', 'maravilloso', 'genial', 'atractivo', 'ingenioso', 'funcional', 'revolucionario', 'creativo']\n",
      "\n",
      "Palabras negativas disponibles: ['defectuoso', 'malo', 'horrible', 'pesimo', 'decepcionante', 'inutil', 'tonto', 'disfuncional', 'delicado']\n",
      "\n",
      "Ahora le toca a usted describir la experiencia que tuvo con el producto, recuerde usar palabras del vocabulario \n",
      "anteriormente expuesto por favor!\n",
      "Describa aqui su experiencia: En general opinaría que es un producto excelente, cumple con un equipo de uso muy bueno, su diseño es maravilloso y atractivo \n",
      "\n",
      "Este [en general opinaría que es un producto excelente, cumple con un equipo de uso muy bueno, su diseño es maravilloso y atractivo ] será el mensaje de respuesta que será valorado para obtener la conclusión final sobre su \n",
      "experiencia con nuestro producto!\n",
      "Desea modificar su respuesta (y/n): y\n",
      "\n",
      "Palabras positivas disponibles: ['bueno', 'excelente', 'maravilloso', 'genial', 'atractivo', 'ingenioso', 'funcional', 'revolucionario', 'creativo']\n",
      "Palabras negativas disponibles: ['defectuoso', 'malo', 'horrible', 'pesimo', 'decepcionante', 'inutil', 'tonto', 'disfuncional', 'delicado']\n",
      "Describa aqui su experiencia nuevamente: mejor dicho creo que es un producto genial, ingenioso, con un diseño creativo y atractivo, algo muy revolucionario pero un poco defectuoso\n",
      "\n",
      "Este [mejor dicho creo que es un producto genial, ingenioso, con un diseño creativo y atractivo, algo muy revolucionario pero un poco defectuoso] será el mensaje de respuesta que será valorado para obtener la conclusión final sobre su \n",
      "experiencia con nuestro producto!\n",
      "Desea modificar su respuesta de nuevo (y/n): n\n",
      "\n",
      "\n",
      "Analizador de sentimientos en proceso de evaluación\n",
      "\n",
      "Experiencia del usuario Juan Carlos: mejor dicho creo que es un producto genial, ingenioso, con un diseño creativo y atractivo, algo muy revolucionario pero un poco defectuoso\n",
      "puntaje: 4 \n",
      "conclusión del programa: Excelente 😁😆😉😄\n"
     ]
    }
   ],
   "source": [
    "positive_words = [\"bueno\",\"excelente\",\"maravilloso\",\"genial\",\"atractivo\",\"ingenioso\",\"funcional\",\"revolucionario\",\"creativo\"]\n",
    "negative_words = [\"defectuoso\",\"malo\",\"horrible\",\"pesimo\",\"decepcionante\",\"inutil\",\"tonto\",\"disfuncional\",\"delicado\"]\n",
    "name = input('Digite su nombre por favor: ')\n",
    "print(f'''\\n\\nHola quetal {name}, en este programa usted podrá describir su experiencia sobre el producto, usted solo debe describir su \n",
    "experiencia utilizando palabras del vocabulario que se podrá ver a continuación: ''')\n",
    "print(f'\\nPalabras positivas disponibles: {positive_words}')\n",
    "print(f'\\nPalabras negativas disponibles: {negative_words}')\n",
    "\n",
    "print('''\\nAhora le toca a usted describir la experiencia que tuvo con el producto, recuerde usar palabras del vocabulario \n",
    "anteriormente expuesto por favor!''')\n",
    "my_string = input('Describa aqui su experiencia: ').lower()\n",
    "\n",
    "print(f'''\\nEste [{my_string}] será el mensaje de respuesta que será valorado para obtener la conclusión final sobre su \n",
    "experiencia con nuestro producto!''')\n",
    "answer = input('Desea modificar su respuesta (y/n): ').lower()\n",
    "while(answer == 'y'):\n",
    "    print(f'\\nPalabras positivas disponibles: {positive_words}')\n",
    "    print(f'Palabras negativas disponibles: {negative_words}')\n",
    "    my_string = input('Describa aqui su experiencia nuevamente: ').lower()\n",
    "    \n",
    "    print(f'''\\nEste [{my_string}] será el mensaje de respuesta que será valorado para obtener la conclusión final sobre su \n",
    "experiencia con nuestro producto!''')\n",
    "    answer = input('Desea modificar su respuesta de nuevo (y/n): ').lower()\n",
    "\n",
    "score = 0\n",
    "for positive_word in positive_words:\n",
    "    score = score + my_string.count(positive_word)\n",
    "\n",
    "for negative_word in negative_words:\n",
    "    score = score - my_string.count(negative_word)\n",
    "\n",
    "if(score == 0):\n",
    "    result = \"sin comentarios 🤨🤔🤨😑\"\n",
    "if(score > 0):\n",
    "    result = \"Bien hecho 😀😄🤓\"\n",
    "if(score >= 2):\n",
    "    result = 'Excelente 😁😆😉😄'\n",
    "if(score < 0):\n",
    "    result = \"Mal producto 😬☹🙁😕😔\"\n",
    "if(score <= -2):\n",
    "    result = 'Pesimo servicio 😡🤬😠😤'\n",
    "\n",
    "print(\"\\n\\nAnalizador de sentimientos en proceso de evaluación\\n\")\n",
    "print(f'Experiencia del usuario {name}: {my_string}\\npuntaje: {score} \\nconclusión del programa: {result}')"
   ]
  }
 ],
 "metadata": {
  "kernelspec": {
   "display_name": "Python 3 (ipykernel)",
   "language": "python",
   "name": "python3"
  },
  "language_info": {
   "codemirror_mode": {
    "name": "ipython",
    "version": 3
   },
   "file_extension": ".py",
   "mimetype": "text/x-python",
   "name": "python",
   "nbconvert_exporter": "python",
   "pygments_lexer": "ipython3",
   "version": "3.10.6"
  }
 },
 "nbformat": 4,
 "nbformat_minor": 5
}
