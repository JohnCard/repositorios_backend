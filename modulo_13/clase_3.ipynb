{
 "cells": [
  {
   "cell_type": "markdown",
   "id": "ac1f640a",
   "metadata": {},
   "source": [
    "# Herencia"
   ]
  },
  {
   "cell_type": "code",
   "execution_count": 2,
   "id": "02acf1d0",
   "metadata": {},
   "outputs": [],
   "source": [
    "class car:\n",
    "    super_attribute = 'Atributo de la super/ clase padre'\n",
    "    \n",
    "    def __init__(self):\n",
    "        print('Una instancia de la super clase padre exitosamente')\n",
    "    \n",
    "    def super_method(self):\n",
    "        print('Método de la super clase padre')\n",
    "        \n",
    "class collection_car(car):\n",
    "    sub_attribute = 'Atributo de la sub clase hija'\n",
    "    \n",
    "    def __init__(self):\n",
    "        print('Una instancia de la sub clase hija exitosamente')\n",
    "    \n",
    "    def sub_method(self):\n",
    "        print('Método de la sub clase hija')"
   ]
  },
  {
   "cell_type": "code",
   "execution_count": 3,
   "id": "42bf969c",
   "metadata": {},
   "outputs": [
    {
     "name": "stdout",
     "output_type": "stream",
     "text": [
      "Una instancia de la sub clase hija exitosamente\n"
     ]
    }
   ],
   "source": [
    "sub_car = collection_car()"
   ]
  },
  {
   "cell_type": "code",
   "execution_count": 4,
   "id": "c5e4a3b5",
   "metadata": {},
   "outputs": [
    {
     "name": "stdout",
     "output_type": "stream",
     "text": [
      "Método de la super clase padre\n",
      "Método de la sub clase hija\n",
      "Atributo de la super/ clase padre\n",
      "Atributo de la sub clase hija\n"
     ]
    }
   ],
   "source": [
    "sub_car.super_method()\n",
    "sub_car.sub_method()\n",
    "print(sub_car.super_attribute)\n",
    "print(sub_car.sub_attribute)"
   ]
  },
  {
   "cell_type": "markdown",
   "id": "a188a6e9",
   "metadata": {},
   "source": [
    "# Usando la subclase como superclase"
   ]
  },
  {
   "cell_type": "code",
   "execution_count": 5,
   "id": "4f251bb2",
   "metadata": {},
   "outputs": [],
   "source": [
    "class sub_collection_car(collection_car):\n",
    "    sub_sub_attribute = 'Atributo de la sub clase sub'\n",
    "    \n",
    "    def __init__(self):\n",
    "        print('Una instancia de la sub_sub clase nieta')\n",
    "    \n",
    "    def sub_sub_method(self):\n",
    "        print('Método de la sub_sub clase nieta')"
   ]
  },
  {
   "cell_type": "code",
   "execution_count": 6,
   "id": "d3fd3bd2",
   "metadata": {},
   "outputs": [
    {
     "name": "stdout",
     "output_type": "stream",
     "text": [
      "Una instancia de la sub_sub clase nieta\n"
     ]
    }
   ],
   "source": [
    "sub_sub_car = sub_collection_car()"
   ]
  },
  {
   "cell_type": "code",
   "execution_count": 7,
   "id": "ae00036c",
   "metadata": {},
   "outputs": [
    {
     "name": "stdout",
     "output_type": "stream",
     "text": [
      "Método de la super clase padre\n",
      "Método de la sub clase hija\n",
      "Método de la sub_sub clase nieta\n",
      "Atributo de la super/ clase padre\n",
      "Atributo de la sub clase sub\n"
     ]
    }
   ],
   "source": [
    "sub_sub_car.super_method()\n",
    "sub_sub_car.sub_method()\n",
    "sub_sub_car.sub_sub_method()\n",
    "print(sub_sub_car.super_attribute)\n",
    "print(sub_sub_car.sub_sub_attribute)"
   ]
  }
 ],
 "metadata": {
  "kernelspec": {
   "display_name": "Python 3 (ipykernel)",
   "language": "python",
   "name": "python3"
  },
  "language_info": {
   "codemirror_mode": {
    "name": "ipython",
    "version": 3
   },
   "file_extension": ".py",
   "mimetype": "text/x-python",
   "name": "python",
   "nbconvert_exporter": "python",
   "pygments_lexer": "ipython3",
   "version": "3.10.6"
  }
 },
 "nbformat": 4,
 "nbformat_minor": 5
}
