{
 "cells": [
  {
   "cell_type": "markdown",
   "id": "e04b350d",
   "metadata": {},
   "source": [
    "# Accediendo a los atributos de los objetos"
   ]
  },
  {
   "cell_type": "code",
   "execution_count": 1,
   "id": "dfc109b6",
   "metadata": {},
   "outputs": [
    {
     "name": "stdout",
     "output_type": "stream",
     "text": [
      "Una instancia de la clase se ha creado exitosamente\n",
      "Marca: tesla\n",
      "Modelo: model_Y\n",
      "Año: 2019\n"
     ]
    }
   ],
   "source": [
    "class car:\n",
    "    def __init__(self,make,model,year):\n",
    "        self.make = make\n",
    "        self.model = model\n",
    "        self.year = year\n",
    "        print('Una instancia de la clase se ha creado exitosamente')\n",
    "        \n",
    "    def print_attributes(self):\n",
    "        print(f'Marca: {self.make}')\n",
    "        print(f'Modelo: {self.model}')\n",
    "        print(f'Año: {self.year}')\n",
    "        \n",
    "car_2 = car('tesla','model_Y','2019')\n",
    "car_2.print_attributes()"
   ]
  },
  {
   "cell_type": "code",
   "execution_count": 2,
   "id": "094440f3",
   "metadata": {},
   "outputs": [
    {
     "data": {
      "text/plain": [
       "['__class__',\n",
       " '__delattr__',\n",
       " '__dict__',\n",
       " '__dir__',\n",
       " '__doc__',\n",
       " '__eq__',\n",
       " '__format__',\n",
       " '__ge__',\n",
       " '__getattribute__',\n",
       " '__gt__',\n",
       " '__hash__',\n",
       " '__init__',\n",
       " '__init_subclass__',\n",
       " '__le__',\n",
       " '__lt__',\n",
       " '__module__',\n",
       " '__ne__',\n",
       " '__new__',\n",
       " '__reduce__',\n",
       " '__reduce_ex__',\n",
       " '__repr__',\n",
       " '__setattr__',\n",
       " '__sizeof__',\n",
       " '__str__',\n",
       " '__subclasshook__',\n",
       " '__weakref__',\n",
       " 'make',\n",
       " 'model',\n",
       " 'print_attributes',\n",
       " 'year']"
      ]
     },
     "execution_count": 2,
     "metadata": {},
     "output_type": "execute_result"
    }
   ],
   "source": [
    "dir(car_2)"
   ]
  },
  {
   "cell_type": "code",
   "execution_count": 3,
   "id": "9cd164d5",
   "metadata": {},
   "outputs": [
    {
     "name": "stdout",
     "output_type": "stream",
     "text": [
      "tesla\n"
     ]
    }
   ],
   "source": [
    "print(car_2.make)"
   ]
  },
  {
   "cell_type": "code",
   "execution_count": 4,
   "id": "96b1d620",
   "metadata": {},
   "outputs": [
    {
     "name": "stdout",
     "output_type": "stream",
     "text": [
      "model_Y\n"
     ]
    }
   ],
   "source": [
    "print(car_2.model)"
   ]
  },
  {
   "cell_type": "code",
   "execution_count": 5,
   "id": "e4430dd3",
   "metadata": {},
   "outputs": [
    {
     "name": "stdout",
     "output_type": "stream",
     "text": [
      "2019\n"
     ]
    }
   ],
   "source": [
    "print(car_2.year)"
   ]
  },
  {
   "cell_type": "markdown",
   "id": "59145e7c",
   "metadata": {},
   "source": [
    "# Variables de clase"
   ]
  },
  {
   "cell_type": "code",
   "execution_count": 9,
   "id": "1874a664",
   "metadata": {},
   "outputs": [],
   "source": [
    "class car:\n",
    "    opus = 0\n",
    "    \n",
    "    def __init__(self,make,model,year):\n",
    "        car.opus += 1\n",
    "        self.make = make\n",
    "        self.model = model\n",
    "        self.year = year\n",
    "        print('Una instancia de la clase se ha creado exitosamente')\n",
    "        \n",
    "    def print_attributes(self):\n",
    "        print(f'Marca: {self.make}')\n",
    "        print(f'Modelo: {self.model}')\n",
    "        print(f'Año: {self.year}')"
   ]
  },
  {
   "cell_type": "code",
   "execution_count": 10,
   "id": "1ceed971",
   "metadata": {},
   "outputs": [
    {
     "name": "stdout",
     "output_type": "stream",
     "text": [
      "Una instancia de la clase se ha creado exitosamente\n",
      "Una instancia de la clase se ha creado exitosamente\n"
     ]
    }
   ],
   "source": [
    "car_1 = car('tesla','model_G','2018')\n",
    "car_2 = car('tesla','model_Y','2019')"
   ]
  },
  {
   "cell_type": "code",
   "execution_count": 11,
   "id": "96926f3f",
   "metadata": {},
   "outputs": [
    {
     "name": "stdout",
     "output_type": "stream",
     "text": [
      "Hay 2 opus creados\n"
     ]
    }
   ],
   "source": [
    "print('Hay',car.opus,'opus creados')"
   ]
  },
  {
   "cell_type": "code",
   "execution_count": 12,
   "id": "f97d1396",
   "metadata": {},
   "outputs": [
    {
     "name": "stdout",
     "output_type": "stream",
     "text": [
      "Una instancia de la clase se ha creado exitosamente\n"
     ]
    }
   ],
   "source": [
    "car_3 = car('tesla','model_H','2017')"
   ]
  },
  {
   "cell_type": "code",
   "execution_count": 13,
   "id": "08a230a8",
   "metadata": {},
   "outputs": [
    {
     "name": "stdout",
     "output_type": "stream",
     "text": [
      "Hay 3 opus creados\n"
     ]
    }
   ],
   "source": [
    "print('Hay',car.opus,'opus creados')"
   ]
  },
  {
   "cell_type": "code",
   "execution_count": 14,
   "id": "bd741dc0",
   "metadata": {},
   "outputs": [
    {
     "name": "stdout",
     "output_type": "stream",
     "text": [
      "Una instancia de la clase se ha creado exitosamente\n"
     ]
    }
   ],
   "source": [
    "car_4 = car('tesla','model_F','2016')"
   ]
  },
  {
   "cell_type": "code",
   "execution_count": 15,
   "id": "fdb89187",
   "metadata": {},
   "outputs": [
    {
     "name": "stdout",
     "output_type": "stream",
     "text": [
      "Hay 4 opus creados\n"
     ]
    }
   ],
   "source": [
    "print('Hay',car.opus,'opus creados')"
   ]
  },
  {
   "cell_type": "markdown",
   "id": "69c6778b",
   "metadata": {},
   "source": [
    "# Garbage collection"
   ]
  },
  {
   "cell_type": "code",
   "execution_count": 16,
   "id": "336fff24",
   "metadata": {},
   "outputs": [],
   "source": [
    "class car:\n",
    "    total = 0\n",
    "    \n",
    "    def __init__(self,make,model,year):\n",
    "        car.total += 1\n",
    "        self.make = make\n",
    "        self.model = model\n",
    "        self.year = year\n",
    "        print('Una instancia de la clase se ha creado exitosamente')\n",
    "    \n",
    "    def __del__(self):\n",
    "        car.total -= 1\n",
    "        \n",
    "    def print_attributes(self):\n",
    "        print(f'Marca: {self.make}')\n",
    "        print(f'Modelo: {self.model}')\n",
    "        print(f'Año: {self.year}')"
   ]
  },
  {
   "cell_type": "code",
   "execution_count": 17,
   "id": "b5bb9bef",
   "metadata": {},
   "outputs": [
    {
     "name": "stdout",
     "output_type": "stream",
     "text": [
      "Una instancia de la clase se ha creado exitosamente\n",
      "Una instancia de la clase se ha creado exitosamente\n",
      "Una instancia de la clase se ha creado exitosamente\n",
      "Una instancia de la clase se ha creado exitosamente\n"
     ]
    }
   ],
   "source": [
    "car_1 = car('tesla','model_G','2018')\n",
    "car_2 = car('tesla','model_Y','2019')\n",
    "car_3 = car('tesla','model_H','2017')\n",
    "car_4 = car('tesla','model_F','2016')"
   ]
  },
  {
   "cell_type": "code",
   "execution_count": 18,
   "id": "2f42af2f",
   "metadata": {},
   "outputs": [
    {
     "name": "stdout",
     "output_type": "stream",
     "text": [
      "Hay 4 totales creados\n"
     ]
    }
   ],
   "source": [
    "print('Hay',car.total,'totales creados')"
   ]
  },
  {
   "cell_type": "code",
   "execution_count": 19,
   "id": "8a03c36a",
   "metadata": {},
   "outputs": [],
   "source": [
    "del car_4"
   ]
  },
  {
   "cell_type": "code",
   "execution_count": 20,
   "id": "91af7d72",
   "metadata": {},
   "outputs": [
    {
     "name": "stdout",
     "output_type": "stream",
     "text": [
      "Hay 3 totales creados\n"
     ]
    }
   ],
   "source": [
    "print('Hay',car.total,'totales creados')"
   ]
  },
  {
   "cell_type": "code",
   "execution_count": 21,
   "id": "7da50a8a",
   "metadata": {},
   "outputs": [
    {
     "ename": "NameError",
     "evalue": "name 'car_4' is not defined",
     "output_type": "error",
     "traceback": [
      "\u001b[1;31m---------------------------------------------------------------------------\u001b[0m",
      "\u001b[1;31mNameError\u001b[0m                                 Traceback (most recent call last)",
      "Cell \u001b[1;32mIn [21], line 1\u001b[0m\n\u001b[1;32m----> 1\u001b[0m \u001b[43mcar_4\u001b[49m\u001b[38;5;241m.\u001b[39mmake\n",
      "\u001b[1;31mNameError\u001b[0m: name 'car_4' is not defined"
     ]
    }
   ],
   "source": [
    "car_4.make"
   ]
  },
  {
   "cell_type": "code",
   "execution_count": 23,
   "id": "3ef92848",
   "metadata": {},
   "outputs": [
    {
     "name": "stdout",
     "output_type": "stream",
     "text": [
      "Hay 3 totals creados\n"
     ]
    }
   ],
   "source": [
    "print('Hay',car.total,'totals creados')"
   ]
  },
  {
   "cell_type": "code",
   "execution_count": 24,
   "id": "460ae529",
   "metadata": {},
   "outputs": [
    {
     "ename": "TypeError",
     "evalue": "car.__del__() missing 1 required positional argument: 'self'",
     "output_type": "error",
     "traceback": [
      "\u001b[1;31m---------------------------------------------------------------------------\u001b[0m",
      "\u001b[1;31mTypeError\u001b[0m                                 Traceback (most recent call last)",
      "Cell \u001b[1;32mIn [24], line 1\u001b[0m\n\u001b[1;32m----> 1\u001b[0m \u001b[43mcar\u001b[49m\u001b[38;5;241;43m.\u001b[39;49m\u001b[38;5;21;43m__del__\u001b[39;49m\u001b[43m(\u001b[49m\u001b[43m)\u001b[49m\n",
      "\u001b[1;31mTypeError\u001b[0m: car.__del__() missing 1 required positional argument: 'self'"
     ]
    }
   ],
   "source": [
    "car.__del__()"
   ]
  }
 ],
 "metadata": {
  "kernelspec": {
   "display_name": "Python 3 (ipykernel)",
   "language": "python",
   "name": "python3"
  },
  "language_info": {
   "codemirror_mode": {
    "name": "ipython",
    "version": 3
   },
   "file_extension": ".py",
   "mimetype": "text/x-python",
   "name": "python",
   "nbconvert_exporter": "python",
   "pygments_lexer": "ipython3",
   "version": "3.10.6"
  }
 },
 "nbformat": 4,
 "nbformat_minor": 5
}
