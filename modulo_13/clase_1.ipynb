{
 "cells": [
  {
   "cell_type": "markdown",
   "id": "3704e192",
   "metadata": {},
   "source": [
    "# Introducción"
   ]
  },
  {
   "cell_type": "code",
   "execution_count": 1,
   "id": "bc2a12b8",
   "metadata": {},
   "outputs": [],
   "source": [
    "class car:\n",
    "    make = 'Tesla'\n",
    "    model = 'Model_3'\n",
    "    year = '2022'\n",
    "    \n",
    "    def turn_off():\n",
    "        pass\n",
    "    \n",
    "    def turn_on():\n",
    "        pass"
   ]
  },
  {
   "cell_type": "code",
   "execution_count": 2,
   "id": "aabd2071",
   "metadata": {},
   "outputs": [],
   "source": [
    "car_1 = car()\n",
    "car_2 = car()\n",
    "car_3 = car()"
   ]
  },
  {
   "cell_type": "code",
   "execution_count": 3,
   "id": "f18b6c6c",
   "metadata": {},
   "outputs": [
    {
     "data": {
      "text/plain": [
       "['__class__',\n",
       " '__delattr__',\n",
       " '__dict__',\n",
       " '__dir__',\n",
       " '__doc__',\n",
       " '__eq__',\n",
       " '__format__',\n",
       " '__ge__',\n",
       " '__getattribute__',\n",
       " '__gt__',\n",
       " '__hash__',\n",
       " '__init__',\n",
       " '__init_subclass__',\n",
       " '__le__',\n",
       " '__lt__',\n",
       " '__module__',\n",
       " '__ne__',\n",
       " '__new__',\n",
       " '__reduce__',\n",
       " '__reduce_ex__',\n",
       " '__repr__',\n",
       " '__setattr__',\n",
       " '__sizeof__',\n",
       " '__str__',\n",
       " '__subclasshook__',\n",
       " '__weakref__',\n",
       " 'make',\n",
       " 'model',\n",
       " 'turn_off',\n",
       " 'turn_on',\n",
       " 'year']"
      ]
     },
     "execution_count": 3,
     "metadata": {},
     "output_type": "execute_result"
    }
   ],
   "source": [
    "dir(car_1)"
   ]
  },
  {
   "cell_type": "markdown",
   "id": "8a76f778",
   "metadata": {},
   "source": [
    "# Creando nuestras propias clases u modelos para objetos"
   ]
  },
  {
   "cell_type": "code",
   "execution_count": 7,
   "id": "8ca6fdb7",
   "metadata": {},
   "outputs": [],
   "source": [
    "class car: # molde\n",
    "    def __init__(self,make,model,year):\n",
    "        self.make = make\n",
    "        self.model = model\n",
    "        self.year = year\n",
    "        print('Una instancia de la clase se ha creado exitosamente')\n",
    "        \n",
    "    def print_attributes(self):\n",
    "        print(f'Marca: {self.make}')\n",
    "        print(f'Modelo: {self.model}')\n",
    "        print(f'Año: {self.year}')"
   ]
  },
  {
   "cell_type": "markdown",
   "id": "d22131bb",
   "metadata": {},
   "source": [
    "## Creando nuestros propios objetos"
   ]
  },
  {
   "cell_type": "code",
   "execution_count": 5,
   "id": "3d17bdd3",
   "metadata": {},
   "outputs": [
    {
     "name": "stdout",
     "output_type": "stream",
     "text": [
      "Una instancia de la clase se ha creado exitosamente\n"
     ]
    }
   ],
   "source": [
    "car_1 = car('tesla','modelo_3','2022')"
   ]
  },
  {
   "cell_type": "code",
   "execution_count": 6,
   "id": "8c7f6022",
   "metadata": {},
   "outputs": [
    {
     "name": "stdout",
     "output_type": "stream",
     "text": [
      "Marca: tesla\n",
      "Modelo: modelo_3\n",
      "Año: 2022\n"
     ]
    }
   ],
   "source": [
    "car_1.print_attributes()"
   ]
  }
 ],
 "metadata": {
  "kernelspec": {
   "display_name": "Python 3 (ipykernel)",
   "language": "python",
   "name": "python3"
  },
  "language_info": {
   "codemirror_mode": {
    "name": "ipython",
    "version": 3
   },
   "file_extension": ".py",
   "mimetype": "text/x-python",
   "name": "python",
   "nbconvert_exporter": "python",
   "pygments_lexer": "ipython3",
   "version": "3.10.6"
  }
 },
 "nbformat": 4,
 "nbformat_minor": 5
}
