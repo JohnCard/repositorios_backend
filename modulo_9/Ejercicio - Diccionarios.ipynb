{
 "cells": [
  {
   "cell_type": "markdown",
   "id": "7ffb7514",
   "metadata": {},
   "source": [
    "# Ejercicio - Diccionarios"
   ]
  },
  {
   "cell_type": "code",
   "execution_count": 1,
   "id": "22f5839c",
   "metadata": {},
   "outputs": [
    {
     "name": "stdout",
     "output_type": "stream",
     "text": [
      "Ingresa el nombre de un pokemon\n",
      "\n",
      "Ingresar nombre: Miguel Bosé\n",
      "ID:  None\n",
      "Nombre:  miguel bosé\n",
      "Altura:  None\n",
      "Peso:  None\n",
      "Lo lamentamos muchito, pero su petición con el nombre miguel bosé ¡NO FUNCIONÓ!\n",
      "Desea intentarlo de nuevo, digite una S para \"va que va\" ó N para decirle al programa \"nel\", hahaha tu me entiendes (S/N): s\n",
      "Ingresa el nombre de un pokemon\n",
      "\n",
      "Ingresar nombre: pikachu\n",
      "ID:  25\n",
      "Nombre:  pikachu\n",
      "Altura:  4\n",
      "Peso:  60\n",
      "Descripción:  Le gusta relajarse\n",
      "Desea intentarlo de nuevo, digite una S para \"va que va\" ó N para decirle al programa \"nel\", hahaha tu me entiendes (S/N): n\n"
     ]
    }
   ],
   "source": [
    "# modifica este programa para que incluya la altura y peso del pokemon. Pista: la info ya está en\n",
    "# la variable “data” que es un diccionario, solo necesitas encontrar las llaves que corresponden con los valores de altura y peso\n",
    "\n",
    "import pokebase as pb\n",
    "import requests\n",
    "answer = 's'\n",
    "while(answer == 's'):\n",
    "    # le añadí el método .lower() por si al usuario o cliente se le pasa escribir el nombre completo con\n",
    "    # puras minusculas, ya que la api en la pokeai al parecer distingue de minusculas y mayusculas,\n",
    "    # y si le haces una petición con un nombre y ese nombre teine por lo menos una sola mayuscula, la \n",
    "    # petición te mandará un ¡ERROR!, y a nadie, absolutamente nadie de nadie de los nuncas, les gustan\n",
    "    # esas costillas (cosillas perdón ;), en fin, espero se entienda mi mensaje\n",
    "    try:\n",
    "        pokemon_to_search = input(\"Ingresa el nombre de un pokemon\\n\\nIngresar nombre: \").lower()\n",
    "        data = pb.pokemon(pokemon_to_search).__dict__\n",
    "        id_ = data.get('id_')\n",
    "        name = data.get('name')\n",
    "        height = data.get('height')\n",
    "        weight = data.get('weight')\n",
    "        print(\"ID: \", id_)\n",
    "        print(\"Nombre: \", name)\n",
    "        print(\"Altura: \", height)\n",
    "        print(\"Peso: \", weight)\n",
    "        url = \"https://pokeapi.co/api/v2/characteristic/{id}/\".format(id=id_)\n",
    "        response = requests.get(url)\n",
    "        for description_dict in response.json().get(\"descriptions\"):\n",
    "            if description_dict.get(\"language\", {}).get(\"name\") == \"es\":\n",
    "                description = description_dict.get(\"description\")\n",
    "                print(\"Descripción: \",description)\n",
    "    except:\n",
    "        print(f'Lo lamentamos muchito, pero su petición con el nombre {pokemon_to_search} ¡NO FUNCIONÓ!')\n",
    "    answer = input('Desea intentarlo de nuevo, digite una S para \"va que va\" ó N para decirle al programa \"nel\", hahaha tu me entiendes (S/N): ').lower()\n",
    "    while(answer != 's' and answer != 'n'):\n",
    "        answer = input(f'Su respuesta {answer} es ¡INVÁLIDA!, favor de intentarlo de nuevo porfavor (S/N): ')"
   ]
  },
  {
   "cell_type": "code",
   "execution_count": null,
   "id": "f34b4133",
   "metadata": {},
   "outputs": [],
   "source": []
  }
 ],
 "metadata": {
  "kernelspec": {
   "display_name": "Python 3 (ipykernel)",
   "language": "python",
   "name": "python3"
  },
  "language_info": {
   "codemirror_mode": {
    "name": "ipython",
    "version": 3
   },
   "file_extension": ".py",
   "mimetype": "text/x-python",
   "name": "python",
   "nbconvert_exporter": "python",
   "pygments_lexer": "ipython3",
   "version": "3.10.6"
  }
 },
 "nbformat": 4,
 "nbformat_minor": 5
}
