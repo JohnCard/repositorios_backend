{
 "cells": [
  {
   "cell_type": "markdown",
   "id": "e97bf228",
   "metadata": {},
   "source": [
    "# Actividad - Ejercicio-Sets"
   ]
  },
  {
   "cell_type": "code",
   "execution_count": 1,
   "id": "3728a62b",
   "metadata": {},
   "outputs": [
    {
     "name": "stdout",
     "output_type": "stream",
     "text": [
      "{'AAA0', '77B7', '888B', 'DD1D', 'AA5A', '0AA0', 'C88C', 'CC00', '8CCC', '99D9', '11C1', 'BB3B', '3AAA', 'B444', '1CCC', 'DD99', 'AAA5', '1A11', '4DDD', '5555', '99DD', 'DD2D', 'DDD0', '000A', 'AA00', '6A66', 'CC33', '1BBB', 'C000', '77BB', 'C0CC', '9CC9', '333A', 'DD77', 'CC66', '888C', 'C6CC', '00CC', '66DD', '888A', 'CC88', 'CC22', 'AA44', '0A00', 'BB55', '3333', '5AA5', '7A77', '66C6', '7CCC', 'C7CC', '33BB', 'AA55', 'AAA7', '444C', 'B88B', 'CCC8', 'C22C', '9999', 'BB8B', 'A5AA', '111A', '7DDD', 'A0AA', '222C', 'C3CC', '999D', 'A1AA', 'D3DD', 'D9DD', '11AA', '7AAA', 'C888', 'DD88', 'D111', '4DD4', 'AA33', 'A555', 'A55A', '00C0', 'DDD5', 'B99B', 'DD66', 'D999', '7777', '00D0', 'C777', 'B77B', 'CC99', '4C44', '4A44', 'B000', '55D5', 'A6AA', 'CCC7', 'CC7C', '77A7', '6C66', '66B6', '00BB', 'D6DD', 'B888', 'CC1C', 'BB44', 'A7AA', '5C55', 'D11D', 'CC3C', 'C33C', '77C7', '33CC', '44AA', 'B2BB', 'C111', 'C444', 'BB77', 'CC11', '666D', 'C00C', '5D55', '2BB2', '9BBB', 'AAA3', 'D44D', '4AAA', '22A2', 'B4BB', '4B44', '0CCC', 'AA9A', '00A0', 'D222', 'DD44', 'B666', 'CCC6', '44CC', '44D4', '3CCC', 'A666', '2AA2', '1D11', 'A4AA', 'A88A', 'DD55', '6CCC', '0000', 'AAA8', '9AAA', 'BB22', '9A99', 'DDD1', '7DD7', '11CC', 'BB11', '3A33', '66CC', '99C9', '1C11', 'D33D', 'C555', '111B', 'BB9B', '5DD5', 'AAA2', 'BB33', 'CCC5', '7AA7', 'C8CC', '4444', 'DD11', 'A333', '9AA9', '77DD', '3B33', 'D22D', 'C44C', 'B66B', 'A99A', '4AA4', '3BB3', '444D', '55AA', '44C4', '6D66', 'D0DD', '777C', '1B11', 'C222', 'A888', 'C1CC', '99B9', '99CC', 'BB4B', '11DD', '5AAA', 'BBB1', '44A4', '88C8', 'A22A', '7C77', 'BB1B', '666C', '2C22', 'A66A', '6B66', 'D1DD', 'DD22', 'CCCC', '1111', 'C55C', 'DD5D', '55C5', 'B222', 'D666', 'DD6D', 'A111', '8DDD', 'BB99', '44DD', '22D2', 'A444', 'DD0D', 'D2DD', '66BB', '0DD0', 'DD4D', '9CCC', 'CCC2', 'CC5C', '11B1', '88A8', 'A000', 'BBBB', 'AA2A', 'AA7A', 'B333', 'D333', 'D444', 'BB7B', 'B9BB', 'C11C', '1DDD', '1DD1', 'BBB9', 'CC9C', 'DD7D', '555B', 'C9CC', '000D', 'D777', 'B1BB', '2DDD', 'AA0A', '666A', '5BB5', '444B', '555C', '2222', '33D3', 'BBB8', 'AA11', '22CC', 'A44A', '5B55', 'BBB2', '2CC2', 'CC4C', 'B999', '0D00', '3DD3', 'CCC0', 'B33B', '2BBB', '8D88', 'A11A', 'CCC9', '3AA3', '6BB6', '8B88', 'AA77', 'BB88', 'BB66', '33A3', '444A', 'A222', '222B', '7BB7', 'A2AA', '999A', 'DD9D', 'A77A', '66AA', '3DDD', 'BB6B', '0CC0', 'C333', '9C99', '3BBB', '0AAA', '3CC3', '0BBB', '11A1', 'CCC3', 'DDD6', 'A33A', 'CC44', 'A00A', '6666', 'D55D', '8BB8', '0B00', '000C', '2CCC', 'B44B', '88AA', '555A', '6DDD', 'AA6A', 'D00D', '333B', 'BBB3', '7D77', 'BBB7', '9B99', '222D', '5DDD', '4CCC', 'DD8D', 'BBB0', 'DDD3', 'D66D', 'B3BB', '999C', '111D', '77D7', 'DDD8', 'D555', '77CC', 'C99C', '0C00', 'AA8A', 'D8DD', 'AAA4', '9DD9', '4BBB', '333C', '9BB9', '22BB', 'D4DD', 'B7BB', 'A3AA', 'DDDD', 'BBB4', 'CC8C', '2DD2', 'B55B', 'B5BB', '4D44', 'DD3D', '0DDD', 'AA22', 'D000', 'D7DD', 'C666', '88DD', 'B22B', 'BB0B', '8CC8', 'C2CC', '99BB', 'CC6C', 'A777', '99AA', '7B77', 'DDD2', '3D33', '7CC7', 'D77D', '777B', '6CC6', '6DD6', 'AA99', 'D5DD', '33AA', '0BB0', '888D', '88BB', '333D', 'CCC4', '777A', '88CC', '777D', '33DD', '6AA6', '11BB', '99A9', '1AAA', '33C3', '66A6', 'B0BB', 'C999', '9D99', '666B', 'AA1A', '4CC4', 'CC0C', '999B', '4BB4', '8DD8', 'AAAA', '55BB', '5CC5', '7BBB', '1CC1', 'BB5B', '88B8', 'B8BB', '88D8', 'AAA9', 'AA66', 'DD33', '55B5', '00AA', '222A', '6BBB', '8C88', 'D888', 'A999', 'D99D', '11D1', '2D22', 'C66C', 'C4CC', 'B111', 'D88D', 'B11B', 'C5CC', '8AAA', '22DD', 'DDD4', 'AAA6', '44BB', 'A9AA', 'BBB5', '77AA', '8888', '8AA8', 'CC2C', 'CCC1', '555D', 'A8AA', '1AA1', '55DD', 'DDD7', '33B3', '5CCC', '44B4', 'C77C', '2A22', '111C', '2AAA', '55CC', '22C2', 'BB00', '2B22', '00DD', 'AAA1', '1BB1', 'B6BB', '5BBB', '00B0', '22AA', '55A5', '8A88', '000B', '8BBB', 'AA88', 'DDD9', 'B00B', '6AAA', 'DD00', 'B777', '22B2', '9DDD', '5A55', 'AA4A', 'CC55', 'BBB6', 'CC77', 'B555', 'BB2B', '66D6', '3C33', 'AA3A'}\n"
     ]
    }
   ],
   "source": [
    "# modifica este programa para crear un generador de combinaciones. En el ejemplo se generan las combinaciones de 3 caracteres. El objetivo es \n",
    "# que incluyas la letra D y generes las combinaciones posibles con 4 caractéres\n",
    "\n",
    "numbers = ['0', '1', '2', '3', '4', '5', '6', '7', '8', '9']\n",
    "letters = ['A', 'B', 'C', 'D']\n",
    "unique_combinations = set()\n",
    "for number in numbers:\n",
    "    for letter in letters:\n",
    "        unique_combinations.add(\"{}{}{}{}\".format(number,number,number,number))\n",
    "        unique_combinations.add(\"{}{}{}{}\".format(number,number,number,letter))\n",
    "        unique_combinations.add(\"{}{}{}{}\".format(number,number,letter,number))\n",
    "        unique_combinations.add(\"{}{}{}{}\".format(number,letter,number,number))\n",
    "        unique_combinations.add(\"{}{}{}{}\".format(letter,number,number,number))\n",
    "        unique_combinations.add(\"{}{}{}{}\".format(letter,letter,number,number))\n",
    "        unique_combinations.add(\"{}{}{}{}\".format(letter,number,number,letter))\n",
    "        unique_combinations.add(\"{}{}{}{}\".format(letter,number,letter,number))\n",
    "        unique_combinations.add(\"{}{}{}{}\".format(number,number,letter,letter))\n",
    "        unique_combinations.add(\"{}{}{}{}\".format(number,letter,letter,number))\n",
    "        unique_combinations.add(\"{}{}{}{}\".format(number,letter,letter,letter))\n",
    "        unique_combinations.add(\"{}{}{}{}\".format(letter,letter,letter,letter))\n",
    "        unique_combinations.add(\"{}{}{}{}\".format(letter,number,letter,letter))\n",
    "        unique_combinations.add(\"{}{}{}{}\".format(letter,letter,number,letter))\n",
    "        unique_combinations.add(\"{}{}{}{}\".format(letter,letter,letter,number))\n",
    "\n",
    "print(unique_combinations)"
   ]
  }
 ],
 "metadata": {
  "kernelspec": {
   "display_name": "Python 3 (ipykernel)",
   "language": "python",
   "name": "python3"
  },
  "language_info": {
   "codemirror_mode": {
    "name": "ipython",
    "version": 3
   },
   "file_extension": ".py",
   "mimetype": "text/x-python",
   "name": "python",
   "nbconvert_exporter": "python",
   "pygments_lexer": "ipython3",
   "version": "3.10.6"
  }
 },
 "nbformat": 4,
 "nbformat_minor": 5
}
